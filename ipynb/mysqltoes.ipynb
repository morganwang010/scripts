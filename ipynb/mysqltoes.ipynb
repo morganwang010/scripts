{
 "metadata": {
  "language_info": {
   "codemirror_mode": {
    "name": "ipython",
    "version": 3
   },
   "file_extension": ".py",
   "mimetype": "text/x-python",
   "name": "python",
   "nbconvert_exporter": "python",
   "pygments_lexer": "ipython3",
   "version": "3.6.12-final"
  },
  "orig_nbformat": 2,
  "kernelspec": {
   "name": "Python 3.6.12 64-bit",
   "display_name": "Python 3.6.12 64-bit",
   "metadata": {
    "interpreter": {
     "hash": "6eed81c8417ab54c10ba7749bce0fd23a862654692c4cfdcc1d7bd25c17307fb"
    }
   }
  }
 },
 "nbformat": 4,
 "nbformat_minor": 2,
 "cells": [
  {
   "cell_type": "code",
   "execution_count": 1,
   "metadata": {},
   "outputs": [],
   "source": [
    "import pymysql as MySQLdb\n",
    "from elasticsearch import Elasticsearch, helpers\n",
    "import datetime"
   ]
  },
  {
   "cell_type": "code",
   "execution_count": 3,
   "metadata": {},
   "outputs": [],
   "source": [
    "import json,os\n",
    "import requests"
   ]
  },
  {
   "cell_type": "code",
   "execution_count": 33,
   "metadata": {},
   "outputs": [],
   "source": [
    "es = Elasticsearch([\"localhost:9200\"],http_auth=\"elastic:changeme\")\n"
   ]
  },
  {
   "cell_type": "code",
   "execution_count": null,
   "metadata": {},
   "outputs": [],
   "source": [
    "es.indices.create(index='tjnews')"
   ]
  },
  {
   "cell_type": "code",
   "execution_count": 2,
   "metadata": {},
   "outputs": [],
   "source": [
    "def conn_mysql():\n",
    "\t# 连接信息：IP，用户名，密码，数据库，编码，端口号\n",
    "    db = MySQLdb.connect('127.0.0.1', 'root', '123456', 'tjnews', charset='utf8',port = 13306);\n",
    "    return db;\n"
   ]
  },
  {
   "cell_type": "code",
   "execution_count": 6,
   "metadata": {},
   "outputs": [],
   "source": [
    "db = conn_mysql()\n",
    "cursor = db.cursor()\n",
    "sql = \"select * from news  limit \"\n",
    "cursor.execute(sql)\n",
    "results = cursor.fetchall()\n"
   ]
  },
  {
   "cell_type": "code",
   "execution_count": 7,
   "metadata": {},
   "outputs": [
    {
     "output_type": "stream",
     "name": "stdout",
     "text": [
      "0\n"
     ]
    }
   ],
   "source": [
    "#if(results)\n",
    "print(len(  ))"
   ]
  },
  {
   "cell_type": "code",
   "execution_count": 6,
   "metadata": {},
   "outputs": [],
   "source": [
    "headers = {\n",
    "    'Content-type': 'application/json',\n",
    "}\n"
   ]
  },
  {
   "cell_type": "code",
   "execution_count": 48,
   "metadata": {
    "tags": []
   },
   "outputs": [
    {
     "output_type": "error",
     "ename": "NameError",
     "evalue": "name 'es' is not defined",
     "traceback": [
      "\u001b[0;31m---------------------------------------------------------------------------\u001b[0m",
      "\u001b[0;31mNameError\u001b[0m                                 Traceback (most recent call last)",
      "\u001b[0;32m<ipython-input-48-777307537f15>\u001b[0m in \u001b[0;36m<module>\u001b[0;34m\u001b[0m\n\u001b[1;32m      8\u001b[0m       \u001b[0;31m#print(str1)\u001b[0m\u001b[0;34m\u001b[0m\u001b[0;34m\u001b[0m\u001b[0;34m\u001b[0m\u001b[0m\n\u001b[1;32m      9\u001b[0m     \u001b[0mdate1\u001b[0m \u001b[0;34m=\u001b[0m \u001b[0mdatetime\u001b[0m\u001b[0;34m.\u001b[0m\u001b[0mdatetime\u001b[0m\u001b[0;34m.\u001b[0m\u001b[0mstrptime\u001b[0m\u001b[0;34m(\u001b[0m\u001b[0mstr1\u001b[0m\u001b[0;34m,\u001b[0m \u001b[0;34m'%Y-%m-%d %H:%M:%S'\u001b[0m\u001b[0;34m)\u001b[0m\u001b[0;34m\u001b[0m\u001b[0;34m\u001b[0m\u001b[0m\n\u001b[0;32m---> 10\u001b[0;31m     \u001b[0mes\u001b[0m\u001b[0;34m.\u001b[0m\u001b[0mindex\u001b[0m\u001b[0;34m(\u001b[0m\u001b[0mindex\u001b[0m\u001b[0;34m=\u001b[0m\u001b[0;34m\"tjnews\"\u001b[0m\u001b[0;34m,\u001b[0m\u001b[0mdoc_type\u001b[0m\u001b[0;34m=\u001b[0m\u001b[0;34m\"_doc\"\u001b[0m\u001b[0;34m,\u001b[0m\u001b[0mid\u001b[0m\u001b[0;34m=\u001b[0m\u001b[0mi\u001b[0m\u001b[0;34m,\u001b[0m\u001b[0mbody\u001b[0m\u001b[0;34m=\u001b[0m\u001b[0;34m{\u001b[0m\u001b[0;34m\"author\"\u001b[0m\u001b[0;34m:\u001b[0m\u001b[0mresult\u001b[0m\u001b[0;34m[\u001b[0m\u001b[0;36m1\u001b[0m\u001b[0;34m]\u001b[0m\u001b[0;34m,\u001b[0m\u001b[0;34m\"title\"\u001b[0m\u001b[0;34m:\u001b[0m\u001b[0mresult\u001b[0m\u001b[0;34m[\u001b[0m\u001b[0;36m2\u001b[0m\u001b[0;34m]\u001b[0m\u001b[0;34m,\u001b[0m\u001b[0;34m\"content\"\u001b[0m\u001b[0;34m:\u001b[0m\u001b[0mresult\u001b[0m\u001b[0;34m[\u001b[0m\u001b[0;36m3\u001b[0m\u001b[0;34m]\u001b[0m\u001b[0;34m,\u001b[0m\u001b[0;34m\"publictime\"\u001b[0m\u001b[0;34m:\u001b[0m\u001b[0mdate1\u001b[0m\u001b[0;34m,\u001b[0m\u001b[0;34m\"province\"\u001b[0m\u001b[0;34m:\u001b[0m\u001b[0mresult\u001b[0m\u001b[0;34m[\u001b[0m\u001b[0;36m5\u001b[0m\u001b[0;34m]\u001b[0m\u001b[0;34m,\u001b[0m\u001b[0;34m\"city\"\u001b[0m\u001b[0;34m:\u001b[0m\u001b[0mresult\u001b[0m\u001b[0;34m[\u001b[0m\u001b[0;36m6\u001b[0m\u001b[0;34m]\u001b[0m\u001b[0;34m,\u001b[0m\u001b[0;34m\"url\"\u001b[0m\u001b[0;34m:\u001b[0m\u001b[0mresult\u001b[0m\u001b[0;34m[\u001b[0m\u001b[0;36m9\u001b[0m\u001b[0;34m]\u001b[0m\u001b[0;34m}\u001b[0m\u001b[0;34m)\u001b[0m\u001b[0;34m\u001b[0m\u001b[0;34m\u001b[0m\u001b[0m\n\u001b[0m\u001b[1;32m     11\u001b[0m     \u001b[0mi\u001b[0m \u001b[0;34m=\u001b[0m \u001b[0mi\u001b[0m \u001b[0;34m+\u001b[0m \u001b[0;36m1\u001b[0m\u001b[0;34m\u001b[0m\u001b[0;34m\u001b[0m\u001b[0m\n\u001b[1;32m     12\u001b[0m \u001b[0;34m\u001b[0m\u001b[0m\n",
      "\u001b[0;31mNameError\u001b[0m: name 'es' is not defined"
     ]
    }
   ],
   "source": [
    "i=0\n",
    "for result in results:\n",
    "    str1 = result[4]\n",
    "    if(len(str1)<=10):\n",
    "      str1 = str1 + \" 00:00:00\"\n",
    "    if(len(str1)==16):\n",
    "      str1 = str1 + \":00\"\n",
    "      #print(str1)\n",
    "    date1 = datetime.datetime.strptime(str1, '%Y-%m-%d %H:%M:%S')\n",
    "    es.index(index=\"tjnews\",doc_type=\"_doc\",id=i,body={\"author\":result[1],\"title\":result[2],\"content\":result[3],\"publictime\":date1,\"province\":result[5],\"city\":result[6],\"url\":result[9]})\n",
    "    i = i + 1\n",
    " \n",
    "    \n",
    "\n",
    "    "
   ]
  },
  {
   "cell_type": "code",
   "execution_count": 15,
   "metadata": {
    "tags": []
   },
   "outputs": [
    {
     "output_type": "stream",
     "name": "stdout",
     "text": "{&quot;id&quot;:&quot;1&quot;,&quot;author&quot;:&quot;文字/孟潞   审核/王谦&quot;,&quot;title&quot;:&quot;【不忘初心 牢记使命】公司党委理论学习中心组开展2019年第二十次集体学习暨主题教育第十三次专题学习&quot;,&quot;content&quot;:&quot;11月21日，公司召开党委理论学习中心组2019年第二十次集体学习暨“不忘初心、牢记使命”主题教育第十三次专题学习。会议集中学习党的十九届四中全会精神、第二批“不忘初心、牢记使命”主题教育最新要求以及中央第十二巡回督导组指示精神，学习国网公司“抓整改、除积弊、转作风、为人民”专项行动要求，以及新区近期重要会议精神等内容，进一步强化理论学习、统一思想，为召开主题教育专题民主生活会、年底重难点任务攻坚奠定思想基础。公司总经理郭向军参加学习并作中心发言，党委书记么军主持会议。公司总经济师陈学民、总工程师郭新、副总工程师李建庆作重点发言。会议指出，学习贯彻好党的十九届四中全会精神是当前和今后一个时期的一项重要政治任务，必须时刻牢记央企责任，以只争朝夕、时不我待的精神状态，坚决落实习近平总书记重要指示和党中央重大决策部署。学习贯彻十九届四中全会精神，一要做好与开展主题教育相结合，强化制度意识、维护制度权威、严格制度执行，确保主题教育取得实实在在的成效。二要与推动企业转型升级相结合，全力攻坚“两网融合”综合示范工程建设，打造与“三型两网”相适应的组织体系、保障体系。三要与高质量推进岁末年初各项工作紧密结合，统筹兼顾安全稳定、经营发展、改革创新、优质服务等各项工作繁重，确保完成全年工作任务的同时实现“双第一”的既定目标。会议强调，要深入开展专项行动，较真碰硬破除顽疾。一要盯紧突出问题，深入落实专项行动方案的20项措施，把问题找准、找实，严肃查处不作为、慢作为、乱作为等突出问题。二要落实整改责任，把责任压下去，督促各部门、各专业落实整改主体责任，立行立改、真改实改，确保整改取得实效。三加强监督检查。要对整改落实情况开展“回头看”，重点检查是否存在整改不到位、不彻底的情况，做到不解决问题不放过、不达到标准不销号。四要强化震慑作用。对敷衍整改、整改不力、拒不整改的，要抓住典型，严肃追责。会议强调，要紧抓新区重大战略机遇，当好高质量发展“先行官”。结合国家发改委出台《关于支持天津滨海新区高质量发展的意见》，公司作为关系新区能源安全和经济命脉的国有重要骨干企业，必须要主动对接政府工作要求，对照新区发展新定位，全力推进“智慧城市大脑”、5G网络建设等相关重点工作，深入对接政府相关部门，提供针对性服务，努力在新区发展中体现公司价值，全面提升融入区域发展能力，充分彰显国网公司的“旗帜”作用。把握当前政企联合推动“9100行动计划”落地的有利形势，以泛在电力物联网建设推进政企深度融合，以“1001工程”提升供电保障能力，以优化营商环境服务新区招商引资，以作风、行风转变赢得社会信赖，促进公司工作全面融入区域发展。其他中心组成员做交流发言，表示要以党的十九届四中全会精神为指引，严格落实公司各项工作部署，持续加强作风建设，全面深化改革创新，加快建设“三型两网”世界一流能源互联网企业，积极服务新区加快创建繁荣宜居智慧的现代化海滨新城。&quot;,&quot;publictime&quot;:&quot;2019-11-22 16:55&quot;,&quot;province&quot;:&quot;天津&quot;,&quot;city&quot;:&quot;滨海&quot;,&quot;url&quot;:&quot;http://portal.tj.sgcc.com.cn/BH_Portal/bh/gsyw/1000840.shtml&quot;}\n1\n0\n"
    },
    {
     "output_type": "error",
     "ename": "UnicodeEncodeError",
     "evalue": "&#39;latin-1&#39; codec can&#39;t encode characters in position 21-22: Body (&#39;文字&#39;) is not valid Latin-1. Use body.encode(&#39;utf-8&#39;) if you want to send it encoded in UTF-8.",
     "traceback": [
      "\u001b[0;31m---------------------------------------------------------------------------\u001b[0m",
      "\u001b[0;31mUnicodeEncodeError\u001b[0m                        Traceback (most recent call last)",
      "\u001b[0;32m&lt;ipython-input-15-beb307bb645c&gt;\u001b[0m in \u001b[0;36m&lt;module&gt;\u001b[0;34m\u001b[0m\n\u001b[1;32m     16\u001b[0m     \u001b[0mc1\u001b[0m \u001b[0;34m=\u001b[0m \u001b[0;34m&quot;[&quot;\u001b[0m \u001b[0;34m+\u001b[0m \u001b[0mstr1\u001b[0m \u001b[0;34m+\u001b[0m \u001b[0;34m&quot;]&quot;\u001b[0m\u001b[0;34m\u001b[0m\u001b[0;34m\u001b[0m\u001b[0m\n\u001b[1;32m     17\u001b[0m \u001b[0;34m\u001b[0m\u001b[0m\n\u001b[0;32m---&gt; 18\u001b[0;31m     \u001b[0mresponse\u001b[0m \u001b[0;34m=\u001b[0m \u001b[0mrequests\u001b[0m\u001b[0;34m.\u001b[0m\u001b[0mpost\u001b[0m\u001b[0;34m(\u001b[0m\u001b[0;34m&#39;http://127.0.0.1:7700/indexes/tjnews/documents&#39;\u001b[0m\u001b[0;34m,\u001b[0m \u001b[0mheaders\u001b[0m\u001b[0;34m=\u001b[0m\u001b[0mheaders\u001b[0m\u001b[0;34m,\u001b[0m \u001b[0mdata\u001b[0m\u001b[0;34m=\u001b[0m\u001b[0mc1\u001b[0m\u001b[0;34m)\u001b[0m\u001b[0;34m\u001b[0m\u001b[0;34m\u001b[0m\u001b[0m\n\u001b[0m\u001b[1;32m     19\u001b[0m     \u001b[0;31m#print(j)\u001b[0m\u001b[0;34m\u001b[0m\u001b[0;34m\u001b[0m\u001b[0;34m\u001b[0m\u001b[0m\n\u001b[1;32m     20\u001b[0m \u001b[0;34m\u001b[0m\u001b[0m\n",
      "\u001b[0;32m/data/anaconda3/envs/nlp/lib/python3.6/site-packages/requests/api.py\u001b[0m in \u001b[0;36mpost\u001b[0;34m(url, data, json, **kwargs)\u001b[0m\n\u001b[1;32m    117\u001b[0m     &quot;&quot;&quot;\n\u001b[1;32m    118\u001b[0m \u001b[0;34m\u001b[0m\u001b[0m\n\u001b[0;32m--&gt; 119\u001b[0;31m     \u001b[0;32mreturn\u001b[0m \u001b[0mrequest\u001b[0m\u001b[0;34m(\u001b[0m\u001b[0;34m&#39;post&#39;\u001b[0m\u001b[0;34m,\u001b[0m \u001b[0murl\u001b[0m\u001b[0;34m,\u001b[0m \u001b[0mdata\u001b[0m\u001b[0;34m=\u001b[0m\u001b[0mdata\u001b[0m\u001b[0;34m,\u001b[0m \u001b[0mjson\u001b[0m\u001b[0;34m=\u001b[0m\u001b[0mjson\u001b[0m\u001b[0;34m,\u001b[0m \u001b[0;34m**\u001b[0m\u001b[0mkwargs\u001b[0m\u001b[0;34m)\u001b[0m\u001b[0;34m\u001b[0m\u001b[0;34m\u001b[0m\u001b[0m\n\u001b[0m\u001b[1;32m    120\u001b[0m \u001b[0;34m\u001b[0m\u001b[0m\n\u001b[1;32m    121\u001b[0m \u001b[0;34m\u001b[0m\u001b[0m\n",
      "\u001b[0;32m/data/anaconda3/envs/nlp/lib/python3.6/site-packages/requests/api.py\u001b[0m in \u001b[0;36mrequest\u001b[0;34m(method, url, **kwargs)\u001b[0m\n\u001b[1;32m     59\u001b[0m     \u001b[0;31m# cases, and look like a memory leak in others.\u001b[0m\u001b[0;34m\u001b[0m\u001b[0;34m\u001b[0m\u001b[0;34m\u001b[0m\u001b[0m\n\u001b[1;32m     60\u001b[0m     \u001b[0;32mwith\u001b[0m \u001b[0msessions\u001b[0m\u001b[0;34m.\u001b[0m\u001b[0mSession\u001b[0m\u001b[0;34m(\u001b[0m\u001b[0;34m)\u001b[0m \u001b[0;32mas\u001b[0m \u001b[0msession\u001b[0m\u001b[0;34m:\u001b[0m\u001b[0;34m\u001b[0m\u001b[0;34m\u001b[0m\u001b[0m\n\u001b[0;32m---&gt; 61\u001b[0;31m         \u001b[0;32mreturn\u001b[0m \u001b[0msession\u001b[0m\u001b[0;34m.\u001b[0m\u001b[0mrequest\u001b[0m\u001b[0;34m(\u001b[0m\u001b[0mmethod\u001b[0m\u001b[0;34m=\u001b[0m\u001b[0mmethod\u001b[0m\u001b[0;34m,\u001b[0m \u001b[0murl\u001b[0m\u001b[0;34m=\u001b[0m\u001b[0murl\u001b[0m\u001b[0;34m,\u001b[0m \u001b[0;34m**\u001b[0m\u001b[0mkwargs\u001b[0m\u001b[0;34m)\u001b[0m\u001b[0;34m\u001b[0m\u001b[0;34m\u001b[0m\u001b[0m\n\u001b[0m\u001b[1;32m     62\u001b[0m \u001b[0;34m\u001b[0m\u001b[0m\n\u001b[1;32m     63\u001b[0m \u001b[0;34m\u001b[0m\u001b[0m\n",
      "\u001b[0;32m/data/anaconda3/envs/nlp/lib/python3.6/site-packages/requests/sessions.py\u001b[0m in \u001b[0;36mrequest\u001b[0;34m(self, method, url, params, data, headers, cookies, files, auth, timeout, allow_redirects, proxies, hooks, stream, verify, cert, json)\u001b[0m\n\u001b[1;32m    528\u001b[0m         }\n\u001b[1;32m    529\u001b[0m         \u001b[0msend_kwargs\u001b[0m\u001b[0;34m.\u001b[0m\u001b[0mupdate\u001b[0m\u001b[0;34m(\u001b[0m\u001b[0msettings\u001b[0m\u001b[0;34m)\u001b[0m\u001b[0;34m\u001b[0m\u001b[0;34m\u001b[0m\u001b[0m\n\u001b[0;32m--&gt; 530\u001b[0;31m         \u001b[0mresp\u001b[0m \u001b[0;34m=\u001b[0m \u001b[0mself\u001b[0m\u001b[0;34m.\u001b[0m\u001b[0msend\u001b[0m\u001b[0;34m(\u001b[0m\u001b[0mprep\u001b[0m\u001b[0;34m,\u001b[0m \u001b[0;34m**\u001b[0m\u001b[0msend_kwargs\u001b[0m\u001b[0;34m)\u001b[0m\u001b[0;34m\u001b[0m\u001b[0;34m\u001b[0m\u001b[0m\n\u001b[0m\u001b[1;32m    531\u001b[0m \u001b[0;34m\u001b[0m\u001b[0m\n\u001b[1;32m    532\u001b[0m         \u001b[0;32mreturn\u001b[0m \u001b[0mresp\u001b[0m\u001b[0;34m\u001b[0m\u001b[0;34m\u001b[0m\u001b[0m\n",
      "\u001b[0;32m/data/anaconda3/envs/nlp/lib/python3.6/site-packages/requests/sessions.py\u001b[0m in \u001b[0;36msend\u001b[0;34m(self, request, **kwargs)\u001b[0m\n\u001b[1;32m    641\u001b[0m \u001b[0;34m\u001b[0m\u001b[0m\n\u001b[1;32m    642\u001b[0m         \u001b[0;31m# Send the request\u001b[0m\u001b[0;34m\u001b[0m\u001b[0;34m\u001b[0m\u001b[0;34m\u001b[0m\u001b[0m\n\u001b[0;32m--&gt; 643\u001b[0;31m         \u001b[0mr\u001b[0m \u001b[0;34m=\u001b[0m \u001b[0madapter\u001b[0m\u001b[0;34m.\u001b[0m\u001b[0msend\u001b[0m\u001b[0;34m(\u001b[0m\u001b[0mrequest\u001b[0m\u001b[0;34m,\u001b[0m \u001b[0;34m**\u001b[0m\u001b[0mkwargs\u001b[0m\u001b[0;34m)\u001b[0m\u001b[0;34m\u001b[0m\u001b[0;34m\u001b[0m\u001b[0m\n\u001b[0m\u001b[1;32m    644\u001b[0m \u001b[0;34m\u001b[0m\u001b[0m\n\u001b[1;32m    645\u001b[0m         \u001b[0;31m# Total elapsed time of the request (approximately)\u001b[0m\u001b[0;34m\u001b[0m\u001b[0;34m\u001b[0m\u001b[0;34m\u001b[0m\u001b[0m\n",
      "\u001b[0;32m/data/anaconda3/envs/nlp/lib/python3.6/site-packages/requests/adapters.py\u001b[0m in \u001b[0;36msend\u001b[0;34m(self, request, stream, timeout, verify, cert, proxies)\u001b[0m\n\u001b[1;32m    447\u001b[0m                     \u001b[0mdecode_content\u001b[0m\u001b[0;34m=\u001b[0m\u001b[0;32mFalse\u001b[0m\u001b[0;34m,\u001b[0m\u001b[0;34m\u001b[0m\u001b[0;34m\u001b[0m\u001b[0m\n\u001b[1;32m    448\u001b[0m                     \u001b[0mretries\u001b[0m\u001b[0;34m=\u001b[0m\u001b[0mself\u001b[0m\u001b[0;34m.\u001b[0m\u001b[0mmax_retries\u001b[0m\u001b[0;34m,\u001b[0m\u001b[0;34m\u001b[0m\u001b[0;34m\u001b[0m\u001b[0m\n\u001b[0;32m--&gt; 449\u001b[0;31m                     \u001b[0mtimeout\u001b[0m\u001b[0;34m=\u001b[0m\u001b[0mtimeout\u001b[0m\u001b[0;34m\u001b[0m\u001b[0;34m\u001b[0m\u001b[0m\n\u001b[0m\u001b[1;32m    450\u001b[0m                 )\n\u001b[1;32m    451\u001b[0m \u001b[0;34m\u001b[0m\u001b[0m\n",
      "\u001b[0;32m/data/anaconda3/envs/nlp/lib/python3.6/site-packages/urllib3/connectionpool.py\u001b[0m in \u001b[0;36murlopen\u001b[0;34m(self, method, url, body, headers, retries, redirect, assert_same_host, timeout, pool_timeout, release_conn, chunked, body_pos, **response_kw)\u001b[0m\n\u001b[1;32m    675\u001b[0m                 \u001b[0mbody\u001b[0m\u001b[0;34m=\u001b[0m\u001b[0mbody\u001b[0m\u001b[0;34m,\u001b[0m\u001b[0;34m\u001b[0m\u001b[0;34m\u001b[0m\u001b[0m\n\u001b[1;32m    676\u001b[0m                 \u001b[0mheaders\u001b[0m\u001b[0;34m=\u001b[0m\u001b[0mheaders\u001b[0m\u001b[0;34m,\u001b[0m\u001b[0;34m\u001b[0m\u001b[0;34m\u001b[0m\u001b[0m\n\u001b[0;32m--&gt; 677\u001b[0;31m                 \u001b[0mchunked\u001b[0m\u001b[0;34m=\u001b[0m\u001b[0mchunked\u001b[0m\u001b[0;34m,\u001b[0m\u001b[0;34m\u001b[0m\u001b[0;34m\u001b[0m\u001b[0m\n\u001b[0m\u001b[1;32m    678\u001b[0m             )\n\u001b[1;32m    679\u001b[0m \u001b[0;34m\u001b[0m\u001b[0m\n",
      "\u001b[0;32m/data/anaconda3/envs/nlp/lib/python3.6/site-packages/urllib3/connectionpool.py\u001b[0m in \u001b[0;36m_make_request\u001b[0;34m(self, conn, method, url, timeout, chunked, **httplib_request_kw)\u001b[0m\n\u001b[1;32m    390\u001b[0m             \u001b[0mconn\u001b[0m\u001b[0;34m.\u001b[0m\u001b[0mrequest_chunked\u001b[0m\u001b[0;34m(\u001b[0m\u001b[0mmethod\u001b[0m\u001b[0;34m,\u001b[0m \u001b[0murl\u001b[0m\u001b[0;34m,\u001b[0m \u001b[0;34m**\u001b[0m\u001b[0mhttplib_request_kw\u001b[0m\u001b[0;34m)\u001b[0m\u001b[0;34m\u001b[0m\u001b[0;34m\u001b[0m\u001b[0m\n\u001b[1;32m    391\u001b[0m         \u001b[0;32melse\u001b[0m\u001b[0;34m:\u001b[0m\u001b[0;34m\u001b[0m\u001b[0;34m\u001b[0m\u001b[0m\n\u001b[0;32m--&gt; 392\u001b[0;31m             \u001b[0mconn\u001b[0m\u001b[0;34m.\u001b[0m\u001b[0mrequest\u001b[0m\u001b[0;34m(\u001b[0m\u001b[0mmethod\u001b[0m\u001b[0;34m,\u001b[0m \u001b[0murl\u001b[0m\u001b[0;34m,\u001b[0m \u001b[0;34m**\u001b[0m\u001b[0mhttplib_request_kw\u001b[0m\u001b[0;34m)\u001b[0m\u001b[0;34m\u001b[0m\u001b[0;34m\u001b[0m\u001b[0m\n\u001b[0m\u001b[1;32m    393\u001b[0m \u001b[0;34m\u001b[0m\u001b[0m\n\u001b[1;32m    394\u001b[0m         \u001b[0;31m# Reset the timeout for the recv() on the socket\u001b[0m\u001b[0;34m\u001b[0m\u001b[0;34m\u001b[0m\u001b[0;34m\u001b[0m\u001b[0m\n",
      "\u001b[0;32m/data/anaconda3/envs/nlp/lib/python3.6/http/client.py\u001b[0m in \u001b[0;36mrequest\u001b[0;34m(self, method, url, body, headers, encode_chunked)\u001b[0m\n\u001b[1;32m   1285\u001b[0m                 encode_chunked=False):\n\u001b[1;32m   1286\u001b[0m         \u001b[0;34m&quot;&quot;&quot;Send a complete request to the server.&quot;&quot;&quot;\u001b[0m\u001b[0;34m\u001b[0m\u001b[0;34m\u001b[0m\u001b[0m\n\u001b[0;32m-&gt; 1287\u001b[0;31m         \u001b[0mself\u001b[0m\u001b[0;34m.\u001b[0m\u001b[0m_send_request\u001b[0m\u001b[0;34m(\u001b[0m\u001b[0mmethod\u001b[0m\u001b[0;34m,\u001b[0m \u001b[0murl\u001b[0m\u001b[0;34m,\u001b[0m \u001b[0mbody\u001b[0m\u001b[0;34m,\u001b[0m \u001b[0mheaders\u001b[0m\u001b[0;34m,\u001b[0m \u001b[0mencode_chunked\u001b[0m\u001b[0;34m)\u001b[0m\u001b[0;34m\u001b[0m\u001b[0;34m\u001b[0m\u001b[0m\n\u001b[0m\u001b[1;32m   1288\u001b[0m \u001b[0;34m\u001b[0m\u001b[0m\n\u001b[1;32m   1289\u001b[0m     \u001b[0;32mdef\u001b[0m \u001b[0m_send_request\u001b[0m\u001b[0;34m(\u001b[0m\u001b[0mself\u001b[0m\u001b[0;34m,\u001b[0m \u001b[0mmethod\u001b[0m\u001b[0;34m,\u001b[0m \u001b[0murl\u001b[0m\u001b[0;34m,\u001b[0m \u001b[0mbody\u001b[0m\u001b[0;34m,\u001b[0m \u001b[0mheaders\u001b[0m\u001b[0;34m,\u001b[0m \u001b[0mencode_chunked\u001b[0m\u001b[0;34m)\u001b[0m\u001b[0;34m:\u001b[0m\u001b[0;34m\u001b[0m\u001b[0;34m\u001b[0m\u001b[0m\n",
      "\u001b[0;32m/data/anaconda3/envs/nlp/lib/python3.6/http/client.py\u001b[0m in \u001b[0;36m_send_request\u001b[0;34m(self, method, url, body, headers, encode_chunked)\u001b[0m\n\u001b[1;32m   1330\u001b[0m             \u001b[0;31m# RFC 2616 Section 3.7.1 says that text default has a\u001b[0m\u001b[0;34m\u001b[0m\u001b[0;34m\u001b[0m\u001b[0;34m\u001b[0m\u001b[0m\n\u001b[1;32m   1331\u001b[0m             \u001b[0;31m# default charset of iso-8859-1.\u001b[0m\u001b[0;34m\u001b[0m\u001b[0;34m\u001b[0m\u001b[0;34m\u001b[0m\u001b[0m\n\u001b[0;32m-&gt; 1332\u001b[0;31m             \u001b[0mbody\u001b[0m \u001b[0;34m=\u001b[0m \u001b[0m_encode\u001b[0m\u001b[0;34m(\u001b[0m\u001b[0mbody\u001b[0m\u001b[0;34m,\u001b[0m \u001b[0;34m&#39;body&#39;\u001b[0m\u001b[0;34m)\u001b[0m\u001b[0;34m\u001b[0m\u001b[0;34m\u001b[0m\u001b[0m\n\u001b[0m\u001b[1;32m   1333\u001b[0m         \u001b[0mself\u001b[0m\u001b[0;34m.\u001b[0m\u001b[0mendheaders\u001b[0m\u001b[0;34m(\u001b[0m\u001b[0mbody\u001b[0m\u001b[0;34m,\u001b[0m \u001b[0mencode_chunked\u001b[0m\u001b[0;34m=\u001b[0m\u001b[0mencode_chunked\u001b[0m\u001b[0;34m)\u001b[0m\u001b[0;34m\u001b[0m\u001b[0;34m\u001b[0m\u001b[0m\n\u001b[1;32m   1334\u001b[0m \u001b[0;34m\u001b[0m\u001b[0m\n",
      "\u001b[0;32m/data/anaconda3/envs/nlp/lib/python3.6/http/client.py\u001b[0m in \u001b[0;36m_encode\u001b[0;34m(data, name)\u001b[0m\n\u001b[1;32m    173\u001b[0m             \u001b[0;34m&quot;%s (%.20r) is not valid Latin-1. Use %s.encode(&#39;utf-8&#39;) &quot;\u001b[0m\u001b[0;34m\u001b[0m\u001b[0;34m\u001b[0m\u001b[0m\n\u001b[1;32m    174\u001b[0m             \u001b[0;34m&quot;if you want to send it encoded in UTF-8.&quot;\u001b[0m \u001b[0;34m%\u001b[0m\u001b[0;34m\u001b[0m\u001b[0;34m\u001b[0m\u001b[0m\n\u001b[0;32m--&gt; 175\u001b[0;31m             (name.title(), data[err.start:err.end], name)) from None\n\u001b[0m\u001b[1;32m    176\u001b[0m \u001b[0;34m\u001b[0m\u001b[0m\n\u001b[1;32m    177\u001b[0m \u001b[0;34m\u001b[0m\u001b[0m\n",
      "\u001b[0;31mUnicodeEncodeError\u001b[0m: &#39;latin-1&#39; codec can&#39;t encode characters in position 21-22: Body (&#39;文字&#39;) is not valid Latin-1. Use body.encode(&#39;utf-8&#39;) if you want to send it encoded in UTF-8."
     ]
    }
   ],
   "source": [
    "i=0\n",
    "for result in results:\n",
    "    str1 = result[4]\n",
    "    #if(len(str1)<=10):\n",
    "     # str1 = str1 + \" 00:00:00\"\n",
    "    #if(len(str1)==16):\n",
    "      #str1 = str1 + \":00\"\n",
    "      #print(str1)\n",
    "   # date1 = datetime.datetime.strptime(str1, '%Y-%m-%d %H:%M:%S')\n",
    "    str1 = '{\"id\":\"'+str(result[0])+'\",\"author\":\"'+result[1]+'\",\"title\":\"'+str(result[2]).replace('\"','\\\\\"')+'\",\"content\":\"'+str(result[3]).replace('\"','\\\\\"')+'\",\"publictime\":\"'+result[4]+'\",\"province\":\"'+result[5]+'\",\"city\":\"'+result[6]+'\",\"url\":\"'+result[9]+'\"}'\n",
    "    print(str1)\n",
    "    print(result[0])\n",
    "    print(i)\n",
    "    i=i+1\n",
    "    #j = json.loads(str1,strict=False)\n",
    "    c1 = \"[\" + str1 + \"]\"\n",
    "\n",
    "    response = requests.post('http://127.0.0.1:7700/indexes/tjnews/documents', headers=headers, data=c1.encode())\n",
    "    #print(j)\n",
    "    \n",
    "    \n",
    "\n",
    "\n",
    "\n",
    "#date1 = datetime.datetime.strptime(\"2019-11-19\", '%Y-%m-%d %H:%M')"
   ]
  },
  {
   "cell_type": "code",
   "execution_count": 13,
   "metadata": {
    "tags": []
   },
   "outputs": [
    {
     "output_type": "stream",
     "name": "stdout",
     "text": "[{&#39;id&#39;: &#39;1&#39;, &#39;author&#39;: &#39;文字/孟潞   审核/王谦&#39;, &#39;title&#39;: &#39;【不忘初心 牢记使命】公司党委理论学习中心组开展2019年第二十次集体学习暨主题教育第十三次专题学习&#39;, &#39;content&#39;: &#39;11月21日，公司召开党委理论学习中心组2019年第二十次集体学习暨“不忘初心、牢记使命”主题教育第十三次专题学习。会议集中学习党的十九届四中全会精神、第二批“不忘初心、牢记使命”主题教育最新要求以及中央第十二巡回督导组指示精神，学习国网公司“抓整改、除积弊、转作风、为人民”专项行动要求，以及新区近期重要会议精神等内容，进一步强化理论学习、统一思想，为召开主题教育专题民主生活会、年底重难点任务攻坚奠定思想基础。公司总经理郭向军参加学习并作中心发言，党委书记么军主持会议。公司总经济师陈学民、总工程师郭新、副总工程师李建庆作重点发言。会议指出，学习贯彻好党的十九届四中全会精神是当前和今后一个时期的一项重要政治任务，必须时刻牢记央企责任，以只争朝夕、时不我待的精神状态，坚决落实习近平总书记重要指示和党中央重大决策部署。学习贯彻十九届四中全会精神，一要做好与开展主题教育相结合，强化制度意识、维护制度权威、严格制度执行，确保主题教育取得实实在在的成效。二要与推动企业转型升级相结合，全力攻坚“两网融合”综合示范工程建设，打造与“三型两网”相适应的组织体系、保障体系。三要与高质量推进岁末年初各项工作紧密结合，统筹兼顾安全稳定、经营发展、改革创新、优质服务等各项工作繁重，确保完成全年工作任务的同时实现“双第一”的既定目标。会议强调，要深入开展专项行动，较真碰硬破除顽疾。一要盯紧突出问题，深入落实专项行动方案的20项措施，把问题找准、找实，严肃查处不作为、慢作为、乱作为等突出问题。二要落实整改责任，把责任压下去，督促各部门、各专业落实整改主体责任，立行立改、真改实改，确保整改取得实效。三加强监督检查。要对整改落实情况开展“回头看”，重点检查是否存在整改不到位、不彻底的情况，做到不解决问题不放过、不达到标准不销号。四要强化震慑作用。对敷衍整改、整改不力、拒不整改的，要抓住典型，严肃追责。会议强调，要紧抓新区重大战略机遇，当好高质量发展“先行官”。结合国家发改委出台《关于支持天津滨海新区高质量发展的意见》，公司作为关系新区能源安全和经济命脉的国有重要骨干企业，必须要主动对接政府工作要求，对照新区发展新定位，全力推进“智慧城市大脑”、5G网络建设等相关重点工作，深入对接政府相关部门，提供针对性服务，努力在新区发展中体现公司价值，全面提升融入区域发展能力，充分彰显国网公司的“旗帜”作用。把握当前政企联合推动“9100行动计划”落地的有利形势，以泛在电力物联网建设推进政企深度融合，以“1001工程”提升供电保障能力，以优化营商环境服务新区招商引资，以作风、行风转变赢得社会信赖，促进公司工作全面融入区域发展。其他中心组成员做交流发言，表示要以党的十九届四中全会精神为指引，严格落实公司各项工作部署，持续加强作风建设，全面深化改革创新，加快建设“三型两网”世界一流能源互联网企业，积极服务新区加快创建繁荣宜居智慧的现代化海滨新城。&#39;, &#39;publictime&#39;: &#39;2019-11-22 16:55&#39;, &#39;province&#39;: &#39;天津&#39;, &#39;city&#39;: &#39;滨海&#39;, &#39;url&#39;: &#39;http://portal.tj.sgcc.com.cn/BH_Portal/bh/gsyw/1000840.shtml&#39;}]\n"
    }
   ],
   "source": [
    "ff = '[{\"id\":\"1\",\"author\":\"文字/孟潞   审核/王谦\",\"title\":\"【不忘初心 牢记使命】公司党委理论学习中心组开展2019年第二十次集体学习暨主题教育第十三次专题学习\",\"content\":\"11月21日，公司召开党委理论学习中心组2019年第二十次集体学习暨“不忘初心、牢记使命”主题教育第十三次专题学习。会议集中学习党的十九届四中全会精神、第二批“不忘初心、牢记使命”主题教育最新要求以及中央第十二巡回督导组指示精神，学习国网公司“抓整改、除积弊、转作风、为人民”专项行动要求，以及新区近期重要会议精神等内容，进一步强化理论学习、统一思想，为召开主题教育专题民主生活会、年底重难点任务攻坚奠定思想基础。公司总经理郭向军参加学习并作中心发言，党委书记么军主持会议。公司总经济师陈学民、总工程师郭新、副总工程师李建庆作重点发言。会议指出，学习贯彻好党的十九届四中全会精神是当前和今后一个时期的一项重要政治任务，必须时刻牢记央企责任，以只争朝夕、时不我待的精神状态，坚决落实习近平总书记重要指示和党中央重大决策部署。学习贯彻十九届四中全会精神，一要做好与开展主题教育相结合，强化制度意识、维护制度权威、严格制度执行，确保主题教育取得实实在在的成效。二要与推动企业转型升级相结合，全力攻坚“两网融合”综合示范工程建设，打造与“三型两网”相适应的组织体系、保障体系。三要与高质量推进岁末年初各项工作紧密结合，统筹兼顾安全稳定、经营发展、改革创新、优质服务等各项工作繁重，确保完成全年工作任务的同时实现“双第一”的既定目标。会议强调，要深入开展专项行动，较真碰硬破除顽疾。一要盯紧突出问题，深入落实专项行动方案的20项措施，把问题找准、找实，严肃查处不作为、慢作为、乱作为等突出问题。二要落实整改责任，把责任压下去，督促各部门、各专业落实整改主体责任，立行立改、真改实改，确保整改取得实效。三加强监督检查。要对整改落实情况开展“回头看”，重点检查是否存在整改不到位、不彻底的情况，做到不解决问题不放过、不达到标准不销号。四要强化震慑作用。对敷衍整改、整改不力、拒不整改的，要抓住典型，严肃追责。会议强调，要紧抓新区重大战略机遇，当好高质量发展“先行官”。结合国家发改委出台《关于支持天津滨海新区高质量发展的意见》，公司作为关系新区能源安全和经济命脉的国有重要骨干企业，必须要主动对接政府工作要求，对照新区发展新定位，全力推进“智慧城市大脑”、5G网络建设等相关重点工作，深入对接政府相关部门，提供针对性服务，努力在新区发展中体现公司价值，全面提升融入区域发展能力，充分彰显国网公司的“旗帜”作用。把握当前政企联合推动“9100行动计划”落地的有利形势，以泛在电力物联网建设推进政企深度融合，以“1001工程”提升供电保障能力，以优化营商环境服务新区招商引资，以作风、行风转变赢得社会信赖，促进公司工作全面融入区域发展。其他中心组成员做交流发言，表示要以党的十九届四中全会精神为指引，严格落实公司各项工作部署，持续加强作风建设，全面深化改革创新，加快建设“三型两网”世界一流能源互联网企业，积极服务新区加快创建繁荣宜居智慧的现代化海滨新城。\",\"publictime\":\"2019-11-22 16:55\",\"province\":\"天津\",\"city\":\"滨海\",\"url\":\"http://portal.tj.sgcc.com.cn/BH_Portal/bh/gsyw/1000840.shtml\"}]'\n",
    "gg = json.loads(ff,strict=False)\n",
    "print(gg)"
   ]
  },
  {
   "cell_type": "code",
   "execution_count": null,
   "metadata": {},
   "outputs": [],
   "source": []
  }
 ]
}