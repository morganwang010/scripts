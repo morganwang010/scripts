{
 "cells": [
  {
   "cell_type": "code",
   "execution_count": 1,
   "metadata": {},
   "outputs": [],
   "source": [
    "import cv2,os,shutil,re,glob\n",
    "import xml.etree.ElementTree as ET\n",
    "path = \"/media/morgan/d/huaweicloud/绝缘子/绝缘子/5472/\"\n",
    "#dest = \"/media/morgan/d/huaweicloud/绝缘子/绝缘子/5472xml/\"\n",
    "dest = \"/media/morgan/d/huaweicloud/VOC2007/Annotations/\"\n",
    "src1 = \"/media/morgan/d/huaweicloud/绝缘子/绝缘子/xml/\""
   ]
  },
  {
   "cell_type": "code",
   "execution_count": 2,
   "metadata": {},
   "outputs": [],
   "source": [
    "def convert(size, box):\n",
    "    dw = 1./(size[0])\n",
    "    dh = 1./(size[1])\n",
    "    x = (box[0] + box[1])/2.0 - 1\n",
    "    y = (box[2] + box[3])/2.0 - 1\n",
    "    w = box[1] - box[0]\n",
    "    h = box[3] - box[2]\n",
    "    x = x*dw\n",
    "    w = w*dw\n",
    "    y = y*dh\n",
    "    h = h*dh\n",
    "    return (x,y,w,h)"
   ]
  },
  {
   "cell_type": "code",
   "execution_count": 4,
   "metadata": {},
   "outputs": [
    {
     "name": "stdout",
     "output_type": "stream",
     "text": [
      "1\n"
     ]
    }
   ],
   "source": [
    "a = [\"morgan\",\"elsa\",\"judy\"]\n",
    "print(a.index(\"elsa\"))"
   ]
  },
  {
   "cell_type": "code",
   "execution_count": 9,
   "metadata": {},
   "outputs": [
    {
     "name": "stdout",
     "output_type": "stream",
     "text": [
      "hat\n",
      "1\n",
      "person\n",
      "0\n",
      "person\n",
      "0\n",
      "person\n",
      "0\n",
      "person\n",
      "0\n",
      "person\n",
      "0\n",
      "person\n",
      "0\n",
      "person\n",
      "0\n",
      "person\n",
      "0\n",
      "person\n",
      "0\n",
      "person\n",
      "0\n",
      "person\n",
      "0\n",
      "person\n",
      "0\n",
      "person\n",
      "0\n",
      "person\n",
      "0\n",
      "person\n",
      "0\n",
      "person\n",
      "0\n",
      "person\n",
      "0\n",
      "person\n",
      "0\n",
      "person\n",
      "0\n",
      "person\n",
      "0\n",
      "person\n",
      "0\n",
      "person\n",
      "0\n",
      "person\n",
      "0\n",
      "person\n",
      "0\n",
      "person\n",
      "0\n",
      "person\n",
      "0\n",
      "person\n",
      "0\n",
      "person\n",
      "0\n",
      "person\n",
      "0\n",
      "person\n",
      "0\n",
      "person\n",
      "0\n",
      "person\n",
      "0\n",
      "person\n",
      "0\n",
      "person\n",
      "0\n",
      "person\n",
      "0\n",
      "person\n",
      "0\n",
      "person\n",
      "0\n",
      "person\n",
      "0\n",
      "person\n",
      "0\n",
      "person\n",
      "0\n",
      "person\n",
      "0\n",
      "person\n",
      "0\n",
      "person\n",
      "0\n",
      "person\n",
      "0\n",
      "person\n",
      "0\n",
      "person\n",
      "0\n",
      "person\n",
      "0\n",
      "person\n",
      "0\n",
      "person\n",
      "0\n",
      "person\n",
      "0\n",
      "person\n",
      "0\n",
      "person\n",
      "0\n",
      "person\n",
      "0\n",
      "person\n",
      "0\n",
      "person\n",
      "0\n",
      "person\n",
      "0\n",
      "person\n",
      "0\n",
      "person\n",
      "0\n",
      "person\n",
      "0\n",
      "person\n",
      "0\n",
      "person\n",
      "0\n",
      "person\n",
      "0\n",
      "person\n",
      "0\n",
      "person\n",
      "0\n",
      "person\n",
      "0\n",
      "person\n",
      "0\n",
      "person\n",
      "0\n",
      "person\n",
      "0\n",
      "person\n",
      "0\n",
      "person\n",
      "0\n",
      "person\n",
      "0\n",
      "person\n",
      "0\n",
      "person\n",
      "0\n",
      "person\n",
      "0\n",
      "person\n",
      "0\n",
      "person\n",
      "0\n",
      "person\n",
      "0\n",
      "person\n",
      "0\n",
      "person\n",
      "0\n",
      "person\n",
      "0\n",
      "person\n",
      "0\n",
      "person\n",
      "0\n",
      "person\n",
      "0\n",
      "person\n",
      "0\n",
      "person\n",
      "0\n"
     ]
    }
   ],
   "source": [
    "#xmls = os.listdir(dest)\n",
    "\n",
    "xmls = glob.glob(\"/media/morgan/d/huawei/pythonscript/*.xml\")\n",
    "#1532571855164\n",
    "#1553738280705\n",
    "for xml in xmls:\n",
    "    in_file = open(xml)\n",
    "    txtf = re.sub(\"xml\",\"txt\",xml)\n",
    "    #out_file = open(txtf, 'w')\n",
    "    #print(txtf)\n",
    "    classes = [\"person\",\"hat\"]\n",
    "    tree=ET.parse(in_file)\n",
    "    root = tree.getroot()\n",
    "    try:\n",
    "        size = root.find('size')\n",
    "        oss = root.find('object')\n",
    "        #print(oss)\n",
    "        if(len(oss)>0):\n",
    "            out_file = open(txtf, 'w+')\n",
    "        else:\n",
    "            continue\n",
    "        w = int(size.find('width').text)\n",
    "        h = int(size.find('height').text)\n",
    "        for obj in root.iter('object'):\n",
    "        #difficult = obj.find('difficult').text\n",
    "            cls = obj.find('name').text\n",
    "            print(cls)\n",
    "            #if cls not in classes or int(difficult)==1:\n",
    "             #   continue\n",
    "            cls_id = classes.index(cls)\n",
    "            xmlbox = obj.find('bndbox')\n",
    "            print(cls_id)\n",
    "            b = (float(xmlbox.find('xmin').text), float(xmlbox.find('xmax').text), float(xmlbox.find('ymin').text), float(xmlbox.find('ymax').text))\n",
    "            bb = convert((w,h), b)\n",
    "            out_file.write(str(cls_id) + \" \" + \" \".join([str(a) for a in bb]) + '\\n')\n",
    "        #print(\"aaa\")\n",
    "    except:\n",
    "      print(e)"
   ]
  },
  {
   "cell_type": "code",
   "execution_count": 13,
   "metadata": {},
   "outputs": [
    {
     "name": "stdout",
     "output_type": "stream",
     "text": [
      "0.8113751591130453\n"
     ]
    }
   ],
   "source": [
    "print(bb[1])"
   ]
  },
  {
   "cell_type": "code",
   "execution_count": 15,
   "metadata": {},
   "outputs": [
    {
     "name": "stdout",
     "output_type": "stream",
     "text": [
      "/media/morgan/d/huaweicloud/绝缘子/绝缘子/xml/1532505903151-jueyuanzi.xml\n",
      "/media/morgan/d/huaweicloud/绝缘子/绝缘子/xml/1532505960535-jueyuanzi.xml\n",
      "/media/morgan/d/huaweicloud/绝缘子/绝缘子/xml/1532506177864-jueyuanzi.xml\n",
      "/media/morgan/d/huaweicloud/绝缘子/绝缘子/xml/1532506257592-jueyuanzi.xml\n",
      "/media/morgan/d/huaweicloud/绝缘子/绝缘子/xml/1532506884279-jueyuanzi.xml\n",
      "/media/morgan/d/huaweicloud/绝缘子/绝缘子/xml/1532506924893-jueyuanzi.xml\n",
      "/media/morgan/d/huaweicloud/绝缘子/绝缘子/xml/1532506938099-jueyuanzi.xml\n",
      "/media/morgan/d/huaweicloud/绝缘子/绝缘子/xml/1532506983684-jueyuanzi.xml\n",
      "/media/morgan/d/huaweicloud/绝缘子/绝缘子/xml/1532507016627-jueyuanzi.xml\n",
      "/media/morgan/d/huaweicloud/绝缘子/绝缘子/xml/1532507028553-jueyuanzi.xml\n",
      "/media/morgan/d/huaweicloud/绝缘子/绝缘子/xml/1532507045903-jueyuanzi.xml\n",
      "/media/morgan/d/huaweicloud/绝缘子/绝缘子/xml/1532507055584-jueyuanzi.xml\n",
      "/media/morgan/d/huaweicloud/绝缘子/绝缘子/xml/1532507109541-jueyuanzi.xml\n",
      "/media/morgan/d/huaweicloud/绝缘子/绝缘子/xml/1532507140761-jueyuanzi.xml\n",
      "/media/morgan/d/huaweicloud/绝缘子/绝缘子/xml/1532507154795-jueyuanzi.xml\n",
      "/media/morgan/d/huaweicloud/绝缘子/绝缘子/xml/1532507242449-jueyuanzi.xml\n",
      "/media/morgan/d/huaweicloud/绝缘子/绝缘子/xml/1532507250932-jueyuanzi.xml\n",
      "/media/morgan/d/huaweicloud/绝缘子/绝缘子/xml/1532507259586-jueyuanzi.xml\n",
      "/media/morgan/d/huaweicloud/绝缘子/绝缘子/xml/1532507270562-jueyuanzi.xml\n",
      "/media/morgan/d/huaweicloud/绝缘子/绝缘子/xml/1532507320315-jueyuanzi.xml\n",
      "/media/morgan/d/huaweicloud/绝缘子/绝缘子/xml/1532566776812-jueyuanzi.xml\n",
      "/media/morgan/d/huaweicloud/绝缘子/绝缘子/xml/1532566791521-jueyuanzi.xml\n",
      "/media/morgan/d/huaweicloud/绝缘子/绝缘子/xml/1532566802715-jueyuanzi.xml\n",
      "/media/morgan/d/huaweicloud/绝缘子/绝缘子/xml/1532566817840-jueyuanzi.xml\n",
      "/media/morgan/d/huaweicloud/绝缘子/绝缘子/xml/1532566828020-jueyuanzi.xml\n"
     ]
    }
   ],
   "source": [
    "imga = os.listdir(path)\n",
    "for imgb in imga:\n",
    "    xmlf = re.sub(\"JPG|jpg\",\"xml\",imgb)\n",
    "    src2 = src1 + xmlf\n",
    "    print(src2)\n",
    "    dest2 = dest + xmlf\n",
    "    shutil.copyfile(src2,dest2)\n",
    "    #print(xmlf) "
   ]
  },
  {
   "cell_type": "code",
   "execution_count": 13,
   "metadata": {},
   "outputs": [
    {
     "name": "stdout",
     "output_type": "stream",
     "text": [
      "5472\n",
      "5472\n",
      "5472\n",
      "5472\n",
      "5472\n",
      "5472\n",
      "5472\n",
      "5472\n",
      "5472\n",
      "5472\n",
      "5472\n",
      "5472\n",
      "5472\n",
      "5472\n",
      "5472\n",
      "5472\n",
      "5472\n",
      "5472\n",
      "5472\n",
      "5472\n",
      "5472\n",
      "5472\n",
      "5472\n",
      "5472\n",
      "5472\n"
     ]
    },
    {
     "ename": "KeyboardInterrupt",
     "evalue": "",
     "output_type": "error",
     "traceback": [
      "\u001b[0;31m---------------------------------------------------------------------------\u001b[0m",
      "\u001b[0;31mKeyboardInterrupt\u001b[0m                         Traceback (most recent call last)",
      "\u001b[0;32m<ipython-input-13-af19d0011cea>\u001b[0m in \u001b[0;36m<module>\u001b[0;34m()\u001b[0m\n\u001b[1;32m      7\u001b[0m     \u001b[0mimgc\u001b[0m \u001b[0;34m=\u001b[0m \u001b[0mpath\u001b[0m\u001b[0;34m+\u001b[0m\u001b[0mimgb\u001b[0m\u001b[0;34m\u001b[0m\u001b[0;34m\u001b[0m\u001b[0m\n\u001b[1;32m      8\u001b[0m     \u001b[0mdestf\u001b[0m \u001b[0;34m=\u001b[0m \u001b[0mdest\u001b[0m\u001b[0;34m+\u001b[0m\u001b[0mimgb\u001b[0m\u001b[0;34m\u001b[0m\u001b[0;34m\u001b[0m\u001b[0m\n\u001b[0;32m----> 9\u001b[0;31m     \u001b[0mimgd\u001b[0m \u001b[0;34m=\u001b[0m \u001b[0mcv2\u001b[0m\u001b[0;34m.\u001b[0m\u001b[0mimread\u001b[0m\u001b[0;34m(\u001b[0m\u001b[0mimgc\u001b[0m\u001b[0;34m)\u001b[0m\u001b[0;34m\u001b[0m\u001b[0;34m\u001b[0m\u001b[0m\n\u001b[0m\u001b[1;32m     10\u001b[0m     \u001b[0;34m(\u001b[0m\u001b[0mw\u001b[0m\u001b[0;34m,\u001b[0m\u001b[0mh\u001b[0m\u001b[0;34m,\u001b[0m\u001b[0mch\u001b[0m\u001b[0;34m)\u001b[0m\u001b[0;34m=\u001b[0m \u001b[0mimgd\u001b[0m\u001b[0;34m.\u001b[0m\u001b[0mshape\u001b[0m\u001b[0;34m\u001b[0m\u001b[0;34m\u001b[0m\u001b[0m\n\u001b[1;32m     11\u001b[0m     \u001b[0;31m#print(h)\u001b[0m\u001b[0;34m\u001b[0m\u001b[0;34m\u001b[0m\u001b[0;34m\u001b[0m\u001b[0m\n",
      "\u001b[0;31mKeyboardInterrupt\u001b[0m: "
     ]
    }
   ],
   "source": [
    "path = \"/media/morgan/d/huaweicloud/绝缘子/绝缘子/jpg/\"\n",
    "dest = \"/media/morgan/d/huaweicloud/绝缘子/绝缘子/5472/\"\n",
    "src1 = \"/media/morgan/d/huaweicloud/绝缘子/绝缘子/xml/\"\n",
    "imga = os.listdir(path)\n",
    "#print(imga)\n",
    "for imgb in imga:\n",
    "    imgc = path+imgb\n",
    "    destf = dest+imgb\n",
    "    imgd = cv2.imread(imgc)\n",
    "    (w,h,ch)= imgd.shape\n",
    "    #print(h)\n",
    "    if h==5472 and w == 3078:\n",
    "        shutil.copyfile(imgc,destf)\n",
    "        print(h)\n",
    "    "
   ]
  },
  {
   "cell_type": "code",
   "execution_count": 17,
   "metadata": {},
   "outputs": [],
   "source": [
    "\n",
    "import numpy as np\n"
   ]
  },
  {
   "cell_type": "code",
   "execution_count": 18,
   "metadata": {},
   "outputs": [],
   "source": [
    "gt_boxes.append(1)"
   ]
  },
  {
   "cell_type": "code",
   "execution_count": 19,
   "metadata": {},
   "outputs": [
    {
     "name": "stdout",
     "output_type": "stream",
     "text": [
      "[1]\n"
     ]
    }
   ],
   "source": [
    "#print(gt_boxes)"
   ]
  },
  {
   "cell_type": "code",
   "execution_count": 48,
   "metadata": {},
   "outputs": [],
   "source": [
    "import re\n",
    "filename = \"1532505903151-jueyuanzi.xml\"\n",
    "src1 = \"/media/morgan/d/huaweicloud/绝缘子/绝缘子/xml/\"\n",
    "xmin=0\n",
    "xmax=0\n",
    "ymin=0\n",
    "gt_boxes1 = []\n",
    "ymax=0\n",
    "with open(src1+filename,\"r\") as f:\n",
    "    for line in f.readlines():\n",
    "        if(\"xmin\" in line):\n",
    "             xmin = float(re.findall(r\"\\d+\\.?\\d*\",line)[0])/5472.0\n",
    "        if(\"ymin\" in line):\n",
    "             ymin = float(re.findall(r\"\\d+\\.?\\d*\",line)[0])/3078.0\n",
    "        if(\"xmax\" in line):\n",
    "             xmax = float(re.findall(r\"\\d+\\.?\\d*\",line)[0])/5472.0\n",
    "        if(\"ymax\" in line):\n",
    "             ymax = float(re.findall(r\"\\d+\\.?\\d*\",line)[0])/3078.0\n",
    "             a = np.array([ymin,xmin,ymax,xmax])\n",
    "             gt_boxes1.append(a)\n",
    "        \n",
    "    "
   ]
  },
  {
   "cell_type": "code",
   "execution_count": 64,
   "metadata": {},
   "outputs": [
    {
     "data": {
      "text/plain": [
       "7.0"
      ]
     },
     "execution_count": 64,
     "metadata": {},
     "output_type": "execute_result"
    }
   ],
   "source": [
    "a = np.array([[10, 7, 4], [7, 2, 1]])\n",
    "np.percentile(a, 80)"
   ]
  },
  {
   "cell_type": "code",
   "execution_count": 54,
   "metadata": {},
   "outputs": [
    {
     "name": "stdout",
     "output_type": "stream",
     "text": [
      "/media/morgan/d/huaweicloud/绝缘子/绝缘子/5472xml/1532505903151-jueyuanzi.xml\n",
      "/media/morgan/d/huaweicloud/绝缘子/绝缘子/5472xml/1532505960535-jueyuanzi.xml\n",
      "/media/morgan/d/huaweicloud/绝缘子/绝缘子/5472xml/1532506177864-jueyuanzi.xml\n",
      "/media/morgan/d/huaweicloud/绝缘子/绝缘子/5472xml/1532506257592-jueyuanzi.xml\n",
      "/media/morgan/d/huaweicloud/绝缘子/绝缘子/5472xml/1532506884279-jueyuanzi.xml\n",
      "/media/morgan/d/huaweicloud/绝缘子/绝缘子/5472xml/1532506924893-jueyuanzi.xml\n",
      "/media/morgan/d/huaweicloud/绝缘子/绝缘子/5472xml/1532506938099-jueyuanzi.xml\n",
      "/media/morgan/d/huaweicloud/绝缘子/绝缘子/5472xml/1532506983684-jueyuanzi.xml\n",
      "/media/morgan/d/huaweicloud/绝缘子/绝缘子/5472xml/1532507016627-jueyuanzi.xml\n",
      "/media/morgan/d/huaweicloud/绝缘子/绝缘子/5472xml/1532507028553-jueyuanzi.xml\n",
      "/media/morgan/d/huaweicloud/绝缘子/绝缘子/5472xml/1532507045903-jueyuanzi.xml\n",
      "/media/morgan/d/huaweicloud/绝缘子/绝缘子/5472xml/1532507055584-jueyuanzi.xml\n",
      "/media/morgan/d/huaweicloud/绝缘子/绝缘子/5472xml/1532507109541-jueyuanzi.xml\n",
      "/media/morgan/d/huaweicloud/绝缘子/绝缘子/5472xml/1532507140761-jueyuanzi.xml\n",
      "/media/morgan/d/huaweicloud/绝缘子/绝缘子/5472xml/1532507154795-jueyuanzi.xml\n",
      "/media/morgan/d/huaweicloud/绝缘子/绝缘子/5472xml/1532507242449-jueyuanzi.xml\n",
      "/media/morgan/d/huaweicloud/绝缘子/绝缘子/5472xml/1532507250932-jueyuanzi.xml\n",
      "/media/morgan/d/huaweicloud/绝缘子/绝缘子/5472xml/1532507259586-jueyuanzi.xml\n",
      "/media/morgan/d/huaweicloud/绝缘子/绝缘子/5472xml/1532507270562-jueyuanzi.xml\n",
      "/media/morgan/d/huaweicloud/绝缘子/绝缘子/5472xml/1532507320315-jueyuanzi.xml\n",
      "/media/morgan/d/huaweicloud/绝缘子/绝缘子/5472xml/1532566776812-jueyuanzi.xml\n",
      "/media/morgan/d/huaweicloud/绝缘子/绝缘子/5472xml/1532566791521-jueyuanzi.xml\n",
      "/media/morgan/d/huaweicloud/绝缘子/绝缘子/5472xml/1532566802715-jueyuanzi.xml\n",
      "/media/morgan/d/huaweicloud/绝缘子/绝缘子/5472xml/1532566817840-jueyuanzi.xml\n",
      "/media/morgan/d/huaweicloud/绝缘子/绝缘子/5472xml/1532566828020-jueyuanzi.xml\n"
     ]
    }
   ],
   "source": [
    "import glob\n",
    "files = glob.glob(\"/media/morgan/d/huaweicloud/绝缘子/绝缘子/5472xml/*.xml\")\n",
    "for file in files:\n",
    "    print(file)\n",
    " "
   ]
  },
  {
   "cell_type": "code",
   "execution_count": null,
   "metadata": {},
   "outputs": [],
   "source": []
  }
 ],
 "metadata": {
  "kernelspec": {
   "display_name": "Python 3",
   "language": "python",
   "name": "python3"
  },
  "language_info": {
   "codemirror_mode": {
    "name": "ipython",
    "version": 3
   },
   "file_extension": ".py",
   "mimetype": "text/x-python",
   "name": "python",
   "nbconvert_exporter": "python",
   "pygments_lexer": "ipython3",
   "version": "3.7.7"
  }
 },
 "nbformat": 4,
 "nbformat_minor": 4
}
